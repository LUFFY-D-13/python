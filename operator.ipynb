{
 "cells": [
  {
   "cell_type": "code",
   "execution_count": 18,
   "id": "68e5a216",
   "metadata": {},
   "outputs": [
    {
     "name": "stdout",
     "output_type": "stream",
     "text": [
      "enter A=54\n",
      "enter B=32\n",
      "c= 86\n",
      "c= 54\n",
      "sum= 86\n",
      "sub= 22\n",
      "mul= 1728\n",
      "div= 1.6875\n",
      "values are not same\n",
      "values are not same\n",
      "a is big 54\n",
      "b is small 32\n",
      "both condition are true\n"
     ]
    }
   ],
   "source": [
    "a=int(input(\"enter A=\"))\n",
    "b=int(input(\"enter B=\"))\n",
    "   \n",
    "\n",
    "#assignment operator\n",
    "\n",
    "c=a;\n",
    "c+=b;\n",
    "\n",
    "print(\"c=\",c)\n",
    "print(\"c=\",a)\n",
    "\n",
    "\n",
    "#arithmatic operator\n",
    "\n",
    "addition=a+b\n",
    "print(\"sum=\",addition)\n",
    "\n",
    "sub=a-b\n",
    "print(\"sub=\",sub)\n",
    "\n",
    "mul=a*b\n",
    "print(\"mul=\",mul)\n",
    "    \n",
    "div=a/b\n",
    "print(\"div=\",div)\n",
    "\n",
    "\n",
    "\n",
    "#comparision operator\n",
    "\n",
    "if a==b:\n",
    "    print(\"values are same\")\n",
    "        \n",
    "else:\n",
    "    print(\"values are not same\")\n",
    "    \n",
    "    \n",
    "if a!=b:\n",
    "    print(\"values are not same\")\n",
    "else:\n",
    "    print(\"values are same\")\n",
    "    \n",
    "    \n",
    "if a>b:\n",
    "    print(\"a is big\",a)\n",
    "else:\n",
    "    print(\"b is big\",b)\n",
    "    \n",
    "if a<b:\n",
    "    print(\"a is small\",a)\n",
    "else:\n",
    "    print(\"b is small\",b)\n",
    "    \n",
    "if a > b and b<a:\n",
    "    print(\"both condition are true\")\n",
    "else:\n",
    "    print(\"both condition are not true\")\n",
    "\n",
    "if a > b or b < a:\n",
    "    print(\"\")\n",
    "\n",
    "\n",
    "\n"
   ]
  },
  {
   "cell_type": "markdown",
   "id": "f5c31bc4",
   "metadata": {},
   "source": [
    "#### "
   ]
  },
  {
   "cell_type": "code",
   "execution_count": null,
   "id": "370e22cd",
   "metadata": {},
   "outputs": [],
   "source": []
  },
  {
   "cell_type": "code",
   "execution_count": null,
   "id": "5149c154",
   "metadata": {},
   "outputs": [],
   "source": []
  },
  {
   "cell_type": "code",
   "execution_count": null,
   "id": "13a00fb8",
   "metadata": {},
   "outputs": [],
   "source": []
  },
  {
   "cell_type": "code",
   "execution_count": null,
   "id": "6608fb22",
   "metadata": {},
   "outputs": [],
   "source": []
  },
  {
   "cell_type": "code",
   "execution_count": null,
   "id": "fe4aa404",
   "metadata": {},
   "outputs": [],
   "source": []
  },
  {
   "cell_type": "code",
   "execution_count": null,
   "id": "49b01bc1",
   "metadata": {},
   "outputs": [],
   "source": []
  },
  {
   "cell_type": "code",
   "execution_count": null,
   "id": "82b2857a",
   "metadata": {},
   "outputs": [],
   "source": []
  },
  {
   "cell_type": "code",
   "execution_count": null,
   "id": "e243e872",
   "metadata": {},
   "outputs": [],
   "source": []
  },
  {
   "cell_type": "code",
   "execution_count": null,
   "id": "4f527993",
   "metadata": {},
   "outputs": [],
   "source": []
  },
  {
   "cell_type": "code",
   "execution_count": null,
   "id": "511ba9b3",
   "metadata": {},
   "outputs": [],
   "source": []
  },
  {
   "cell_type": "code",
   "execution_count": null,
   "id": "ad9d0e77",
   "metadata": {},
   "outputs": [],
   "source": []
  },
  {
   "cell_type": "code",
   "execution_count": null,
   "id": "afb9d1c6",
   "metadata": {},
   "outputs": [],
   "source": []
  },
  {
   "cell_type": "code",
   "execution_count": null,
   "id": "9bf9ad47",
   "metadata": {},
   "outputs": [],
   "source": []
  },
  {
   "cell_type": "code",
   "execution_count": null,
   "id": "b6bd9e5c",
   "metadata": {},
   "outputs": [],
   "source": []
  }
 ],
 "metadata": {
  "kernelspec": {
   "display_name": "Python 3 (ipykernel)",
   "language": "python",
   "name": "python3"
  },
  "language_info": {
   "codemirror_mode": {
    "name": "ipython",
    "version": 3
   },
   "file_extension": ".py",
   "mimetype": "text/x-python",
   "name": "python",
   "nbconvert_exporter": "python",
   "pygments_lexer": "ipython3",
   "version": "3.9.6"
  }
 },
 "nbformat": 4,
 "nbformat_minor": 5
}
