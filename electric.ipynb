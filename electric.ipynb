{
 "cells": [
  {
   "cell_type": "code",
   "execution_count": 45,
   "id": "f6e54f95",
   "metadata": {},
   "outputs": [
    {
     "name": "stdout",
     "output_type": "stream",
     "text": [
      "enter electricity units consumed:100\n",
      "electricity bill summary\n",
      "________________________\n",
      "unit consumed :100.0 per unit \n",
      "rate applied:₹3\n",
      "Total bill:₹300.0\n"
     ]
    }
   ],
   "source": [
    "unit=float(input(\"enter electricity units consumed:\"))\n",
    "price=0\n",
    "bill=0\n",
    "\n",
    "if unit <= 100:\n",
    "    price=3\n",
    "    bill=unit*3\n",
    "    \n",
    "elif unit >= 101 and unit <=300:\n",
    "    price=5;\n",
    "    bill=unit*5\n",
    "elif unit >=301  and unit <=500:\n",
    "    price=7\n",
    "    bill=unit*7\n",
    "else:\n",
    "    price=10\n",
    "    bill=unit*10\n",
    "   \n",
    "    \n",
    "\n",
    "print(\"electricity bill summary\")\n",
    "print(\"________________________\")\n",
    "print(f\"unit consumed :{unit} per unit \")\n",
    "print(f\"rate applied:₹{price}\")\n",
    "print(f\"Total bill:₹{bill}\")\n"
   ]
  },
  {
   "cell_type": "code",
   "execution_count": null,
   "id": "d273b2d8",
   "metadata": {},
   "outputs": [],
   "source": []
  },
  {
   "cell_type": "code",
   "execution_count": null,
   "id": "12518f64",
   "metadata": {},
   "outputs": [],
   "source": []
  }
 ],
 "metadata": {
  "kernelspec": {
   "display_name": "Python 3 (ipykernel)",
   "language": "python",
   "name": "python3"
  },
  "language_info": {
   "codemirror_mode": {
    "name": "ipython",
    "version": 3
   },
   "file_extension": ".py",
   "mimetype": "text/x-python",
   "name": "python",
   "nbconvert_exporter": "python",
   "pygments_lexer": "ipython3",
   "version": "3.9.6"
  }
 },
 "nbformat": 4,
 "nbformat_minor": 5
}
