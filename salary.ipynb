{
 "cells": [
  {
   "cell_type": "code",
   "execution_count": 1,
   "id": "810f9d19-be23-4121-9649-26a5b3be920d",
   "metadata": {},
   "outputs": [
    {
     "name": "stdin",
     "output_type": "stream",
     "text": [
      "enter employee name:- dhaval\n",
      "enter emp ID= 4\n",
      "enter basic salary 5000\n",
      "enter bonus percent 10\n"
     ]
    },
    {
     "name": "stdout",
     "output_type": "stream",
     "text": [
      "============================================================\n",
      "---------------------salary slip----------------------------\n",
      "============================================================\n",
      "employeename_name:\t\t\t\tdhaval\n",
      "employee_ID:\t\t\t\t\t4\n",
      "employee_basic_salary:\t\t\t\t5000.0\n",
      "bonus_percentage:-\t\t\t\t10.0\n",
      "------------------------------------------------------------\n",
      "------------------------------------------------------------\n",
      "salary of employee:-\t\t\t\t5000.0\n",
      "bonus salary of employee:-\t\t\t500.0\n",
      "total salary of employee:-\t\t\t5500.0\n"
     ]
    },
    {
     "name": "stdout",
     "output_type": "stream",
     "text": [
      "****************57657.0************\n",
      "******{+basic_salary+}********\n",
      "3459.42\n",
      "61116.42\n"
     ]
    }
   ],
   "source": [
    "name=str(input(\"enter employee name:-\"))\n",
    "ID=int(input(\"enter emp ID=\"))\n",
    "basic_salary=float(input(\"enter basic salary\"))\n",
    "bonus_percentage=float(input(\"enter bonus percent\"))\n",
    "\n",
    "bonus_salary=(bonus_percentage/100)*basic_salary\n",
    "\n",
    "total_salary=(bonus_salary+basic_salary)\n",
    "\n",
    "print(\"============================================================\")\n",
    "print(\"---------------------salary slip----------------------------\")\n",
    "print(\"============================================================\")\n",
    "print(f\"employeename_name:\\t\\t\\t\\t{name}\")\n",
    "print(f\"employee_ID:\\t\\t\\t\\t\\t{ID}\")\n",
    "print(f\"employee_basic_salary:\\t\\t\\t\\t{basic_salary}\")\n",
    "print(f\"bonus_percentage:-\\t\\t\\t\\t{bonus_percentage}\")\n",
    "print(\"------------------------------------------------------------\")\n",
    "print(\"------------------------------------------------------------\")\n",
    "\n",
    "print(f\"salary of employee:-\\t\\t\\t\\t{basic_salary}\")\n",
    "print(f\"bonus salary of employee:-\\t\\t\\t{bonus_salary}\")\n",
    "print(f\"total salary of employee:-\\t\\t\\t{total_salary}\")\n",
    "\n"
   ]
  },
  {
   "cell_type": "code",
   "execution_count": null,
   "id": "235f522f-0099-4f34-9d94-d374a96cd119",
   "metadata": {},
   "outputs": [],
   "source": []
  }
 ],
 "metadata": {
  "kernelspec": {
   "display_name": "Python 3 (ipykernel)",
   "language": "python",
   "name": "python3"
  },
  "language_info": {
   "codemirror_mode": {
    "name": "ipython",
    "version": 3
   },
   "file_extension": ".py",
   "mimetype": "text/x-python",
   "name": "python",
   "nbconvert_exporter": "python",
   "pygments_lexer": "ipython3",
   "version": "3.12.2"
  }
 },
 "nbformat": 4,
 "nbformat_minor": 5
}
