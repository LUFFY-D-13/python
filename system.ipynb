{
 "cells": [
  {
   "cell_type": "code",
   "execution_count": 7,
   "id": "d517e28c",
   "metadata": {},
   "outputs": [
    {
     "name": "stdout",
     "output_type": "stream",
     "text": [
      "Available courses\n",
      "('cs101', 'dr.mehta')\n",
      "('ma101', 'mr.sharma')\n",
      "('ph101', 'dr.gulati')\n",
      "how many student you want to enroll3\n",
      "\n",
      " enter course code(cs101/ma101/ph101):cs101\n",
      "enter student name:f\n",
      "added 'f' to cs101\n",
      "updated students: {'f'}\n",
      "\n",
      " enter course code(cs101/ma101/ph101):ma101\n",
      "enter student name:d\n",
      "added 'd' to ma101\n",
      "updated students: {'d'}\n",
      "\n",
      " enter course code(cs101/ma101/ph101):ph101\n",
      "enter student name:as\n",
      "added 'as' to ph101\n",
      "updated students: {'as'}\n",
      "\n",
      "----final course enrolment----\n",
      "courses ('cs101', 'dr.mehta')\n",
      "enrolment student {'f'}\n",
      "\n",
      "courses ('ma101', 'mr.sharma')\n",
      "enrolment student {'d'}\n",
      "\n",
      "courses ('ph101', 'dr.gulati')\n",
      "enrolment student {'as'}\n",
      "\n"
     ]
    }
   ],
   "source": [
    "courses= [\n",
    "    (\"cs101\",\"dr.mehta\"),\n",
    "    (\"ma101\",\"mr.sharma\"),\n",
    "    (\"ph101\",\"dr.gulati\")\n",
    "]\n",
    "\n",
    "enrolement ={course[0]:set() for course in courses}\n",
    "\n",
    "print(\"Available courses\")\n",
    "for c in courses:\n",
    "    print(c)\n",
    "    \n",
    "n=int(input(\"how many student you want to enroll:\"))\n",
    "    \n",
    "for i in range(n):\n",
    "    course_code = input(\"\\n enter course code(cs101/ma101/ph101):\")\n",
    "    student_name = input(\"enter student name:\")\n",
    "    \n",
    "    if course_code in enrolement:\n",
    "        if student_name in enrolement[course_code]:\n",
    "            print(f\" '{student_name}'is already enrolled in {course_code}\")\n",
    "        else:\n",
    "            enrolement[course_code].add(student_name)\n",
    "            print(f\"added '{student_name}' to {course_code}\")\n",
    "            print(\"updated students:\",enrolement[course_code])\n",
    "    else:\n",
    "        print(\"invalid course code\")\n",
    "        \n",
    "        \n",
    "print(\"\\n----final course enrolment----\")\n",
    "for course in courses:\n",
    "        code,faculty = course\n",
    "        print(\"courses\",course)\n",
    "        print(\"enrolment student\",enrolement[code] if enrolement[code] else \"no student yet\")\n",
    "        print()\n",
    "            "
   ]
  },
  {
   "cell_type": "code",
   "execution_count": null,
   "id": "fab9dfa1",
   "metadata": {},
   "outputs": [],
   "source": []
  },
  {
   "cell_type": "code",
   "execution_count": null,
   "id": "dd82d445",
   "metadata": {},
   "outputs": [],
   "source": []
  }
 ],
 "metadata": {
  "kernelspec": {
   "display_name": "Python 3 (ipykernel)",
   "language": "python",
   "name": "python3"
  },
  "language_info": {
   "codemirror_mode": {
    "name": "ipython",
    "version": 3
   },
   "file_extension": ".py",
   "mimetype": "text/x-python",
   "name": "python",
   "nbconvert_exporter": "python",
   "pygments_lexer": "ipython3",
   "version": "3.9.6"
  }
 },
 "nbformat": 4,
 "nbformat_minor": 5
}
