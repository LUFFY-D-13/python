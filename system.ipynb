{
 "cells": [
  {
   "cell_type": "code",
   "execution_count": null,
   "id": "d517e28c",
   "metadata": {},
   "outputs": [
    {
     "name": "stdout",
     "output_type": "stream",
     "text": [
      "Available Courses :  (('cs101', 'Dr.Mehta'), ('cs102', 'Dr.rathod'), ('cs103', 'Dr.hardik'))\n",
      "\n",
      " add studen 1.\n",
      "2.display\n",
      "Enter your choice 1 or 2 : 1\n",
      "Enter Course Code as Above : cs101\n",
      "Enter Student Name : dhaval\n",
      " Added 'dhaval' to cs101\n",
      "Updated Students in this course:  {'dhaval'}\n",
      "\n",
      " add studen 1.\n",
      "2.display\n",
      "Enter your choice 1 or 2 : 2\n",
      "\n",
      " All Enrolled Students\n",
      "['dhaval']\n",
      "\n",
      " All Enrolled Students (Course-wise):\n",
      "cs101: {'dhaval'}\n",
      "cs102: set()\n",
      "cs103: set()\n",
      "\n",
      " add studen 1.\n",
      "2.display\n",
      "Enter your choice 1 or 2 : 2\n",
      "\n",
      " All Enrolled Students\n",
      "['dhaval']\n",
      "\n",
      " All Enrolled Students (Course-wise):\n",
      "cs101: {'dhaval'}\n",
      "cs102: set()\n",
      "cs103: set()\n",
      "\n",
      " add studen 1.\n",
      "2.display\n"
     ]
    }
   ],
   "source": [
    "tuple1 = ((\"cs101\", \"Dr.Mehta\"), (\"cs102\", \"Dr.rathod\"), (\"cs103\", \"Dr.hardik\"))\n",
    "print(\"Available Courses : \", tuple1)\n",
    "\n",
    "# Dictionary \n",
    "dict1 = {\"cs101\": set(), \"cs102\": set(), \"cs103\": set()}\n",
    "\n",
    "# List \n",
    "List1=[]\n",
    "choice = 0\n",
    "\n",
    "while choise != 2:\n",
    "    print(\"\\n add studen 1.\\n 2.display\")\n",
    "    choice =input(\"Enter your choice 1 or 2 : \")\n",
    "    \n",
    "    if choice.isdigit():\n",
    "        choice=int(choice)\n",
    "        if choice<3 and choice>0:\n",
    "            if choice == 1:\n",
    "                    CourseCode = input(\"Enter Course Code as Above : \")\n",
    "                    std = input(\"Enter Student Name : \")\n",
    "\n",
    "                    if CourseCode not in dict1:\n",
    "                        print(\" Invalid Course Code!\")\n",
    "                    elif std in dict1[CourseCode]:\n",
    "                        print(f\" Student '{std}' already enrolled in {CourseCode}\")\n",
    "                    else:\n",
    "                        dict1[CourseCode].add(std)\n",
    "                        List1.append(std)\n",
    "                        print(f\" Added '{std}' to {CourseCode}\")\n",
    "                        print(\"Updated Students in this course: \", dict1[CourseCode])\n",
    "            if choice ==2:\n",
    "                print(\"\\n All Enrolled Students\")\n",
    "                print(List1)\n",
    "                print(\"\\n All Enrolled Students (Course-wise):\")\n",
    "                for code, students in dict1.items():\n",
    "                    print(f\"{code}: {students}\")\n",
    "        else:\n",
    "            print(\"Choise is not 1 or 2 Enter valid choise..\")\n",
    "    else:\n",
    "            print(\"Enter Valid input...\")"
   ]
  },
  {
   "cell_type": "code",
   "execution_count": null,
   "id": "fab9dfa1",
   "metadata": {},
   "outputs": [],
   "source": []
  },
  {
   "cell_type": "code",
   "execution_count": null,
   "id": "dd82d445",
   "metadata": {},
   "outputs": [],
   "source": []
  }
 ],
 "metadata": {
  "kernelspec": {
   "display_name": "Python 3 (ipykernel)",
   "language": "python",
   "name": "python3"
  },
  "language_info": {
   "codemirror_mode": {
    "name": "ipython",
    "version": 3
   },
   "file_extension": ".py",
   "mimetype": "text/x-python",
   "name": "python",
   "nbconvert_exporter": "python",
   "pygments_lexer": "ipython3",
   "version": "3.9.6"
  }
 },
 "nbformat": 4,
 "nbformat_minor": 5
}
